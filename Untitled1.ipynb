{
  "nbformat": 4,
  "nbformat_minor": 0,
  "metadata": {
    "colab": {
      "name": "Untitled1.ipynb",
      "provenance": [],
      "authorship_tag": "ABX9TyO96nCciPhouJcXDJ/4oXte",
      "include_colab_link": true
    },
    "kernelspec": {
      "name": "python3",
      "display_name": "Python 3"
    },
    "language_info": {
      "name": "python"
    }
  },
  "cells": [
    {
      "cell_type": "markdown",
      "metadata": {
        "id": "view-in-github",
        "colab_type": "text"
      },
      "source": [
        "<a href=\"https://colab.research.google.com/github/yukmiao/myDataSet/blob/main/Untitled1.ipynb\" target=\"_parent\"><img src=\"https://colab.research.google.com/assets/colab-badge.svg\" alt=\"Open In Colab\"/></a>"
      ]
    },
    {
      "cell_type": "code",
      "metadata": {
        "colab": {
          "base_uri": "https://localhost:8080/"
        },
        "id": "tCjoTMVcG9Yj",
        "outputId": "db61f7fc-3693-445b-f10d-02dab4776c4b"
      },
      "source": [
        "#!pip install xgboost"
      ],
      "execution_count": 1,
      "outputs": [
        {
          "output_type": "stream",
          "text": [
            "Requirement already satisfied: xgboost in /usr/local/lib/python3.7/dist-packages (0.90)\n",
            "Requirement already satisfied: scipy in /usr/local/lib/python3.7/dist-packages (from xgboost) (1.4.1)\n",
            "Requirement already satisfied: numpy in /usr/local/lib/python3.7/dist-packages (from xgboost) (1.19.5)\n"
          ],
          "name": "stdout"
        }
      ]
    },
    {
      "cell_type": "code",
      "metadata": {
        "id": "bo_7h2R-HE8A"
      },
      "source": [
        "import xgboost"
      ],
      "execution_count": 2,
      "outputs": []
    },
    {
      "cell_type": "code",
      "metadata": {
        "id": "svg1DQKQHH4e"
      },
      "source": [
        "from numpy import loadtxt\n",
        "from xgboost import XGBClassifier\n",
        "from sklearn.model_selection import train_test_split\n",
        "from sklearn.metrics import accuracy_score,roc_auc_score\n",
        "from sklearn.model_selection import GridSearchCV\n",
        "from sklearn.model_selection import StratifiedKFold"
      ],
      "execution_count": 66,
      "outputs": []
    },
    {
      "cell_type": "code",
      "metadata": {
        "colab": {
          "base_uri": "https://localhost:8080/"
        },
        "id": "QzZHu4wxHds1",
        "outputId": "69674a31-a8dd-445b-c131-bf939032e5a4"
      },
      "source": [
        "!git clone https://github.com/yukmiao/myDataSet.git"
      ],
      "execution_count": 40,
      "outputs": [
        {
          "output_type": "stream",
          "text": [
            "Cloning into 'myDataSet'...\n",
            "remote: Enumerating objects: 18, done.\u001b[K\n",
            "remote: Counting objects: 100% (18/18), done.\u001b[K\n",
            "remote: Compressing objects: 100% (16/16), done.\u001b[K\n",
            "remote: Total 18 (delta 4), reused 0 (delta 0), pack-reused 0\u001b[K\n",
            "Unpacking objects: 100% (18/18), done.\n"
          ],
          "name": "stdout"
        }
      ]
    },
    {
      "cell_type": "code",
      "metadata": {
        "colab": {
          "base_uri": "https://localhost:8080/"
        },
        "id": "kVRBNAfsNBZa",
        "outputId": "afbab88d-99e0-4d78-e341-e1806bb9146c"
      },
      "source": [
        "!ls -R"
      ],
      "execution_count": 41,
      "outputs": [
        {
          "output_type": "stream",
          "text": [
            ".:\n",
            "myDataSet  myDataSet1  myDataSet2  sample_data\txgboost_pre2.csv\n",
            "\n",
            "./myDataSet:\n",
            "50w.csv  fortyfive.csv\tREADME.md  sixteenK.csv  test.csv  xgboost.ipynb\n",
            "\n",
            "./myDataSet1:\n",
            "README.md  sixteenK.csv  test.csv  xgboost.ipynb\n",
            "\n",
            "./myDataSet2:\n",
            "fortyfive.csv  README.md  sixteenK.csv\ttest.csv  xgboost.ipynb\n",
            "\n",
            "./sample_data:\n",
            "anscombe.json\t\t      mnist_test.csv\n",
            "california_housing_test.csv   mnist_train_small.csv\n",
            "california_housing_train.csv  README.md\n"
          ],
          "name": "stdout"
        }
      ]
    },
    {
      "cell_type": "code",
      "metadata": {
        "colab": {
          "base_uri": "https://localhost:8080/",
          "height": 204
        },
        "id": "rJqrutDzNEwl",
        "outputId": "0f91a57a-70a6-418a-9418-695c48f28527"
      },
      "source": [
        "import pandas as pd\n",
        "data=pd.read_csv('./myDataSet/50w.csv',header=0)\n",
        "data.head()"
      ],
      "execution_count": 42,
      "outputs": [
        {
          "output_type": "execute_result",
          "data": {
            "text/html": [
              "<div>\n",
              "<style scoped>\n",
              "    .dataframe tbody tr th:only-of-type {\n",
              "        vertical-align: middle;\n",
              "    }\n",
              "\n",
              "    .dataframe tbody tr th {\n",
              "        vertical-align: top;\n",
              "    }\n",
              "\n",
              "    .dataframe thead th {\n",
              "        text-align: right;\n",
              "    }\n",
              "</style>\n",
              "<table border=\"1\" class=\"dataframe\">\n",
              "  <thead>\n",
              "    <tr style=\"text-align: right;\">\n",
              "      <th></th>\n",
              "      <th>Unnamed: 0</th>\n",
              "      <th>wcn</th>\n",
              "      <th>wjc</th>\n",
              "      <th>wpa</th>\n",
              "      <th>waa</th>\n",
              "      <th>label</th>\n",
              "    </tr>\n",
              "  </thead>\n",
              "  <tbody>\n",
              "    <tr>\n",
              "      <th>0</th>\n",
              "      <td>1</td>\n",
              "      <td>14.714286</td>\n",
              "      <td>0.872881</td>\n",
              "      <td>4347</td>\n",
              "      <td>24.343823</td>\n",
              "      <td>1</td>\n",
              "    </tr>\n",
              "    <tr>\n",
              "      <th>1</th>\n",
              "      <td>2</td>\n",
              "      <td>15.666667</td>\n",
              "      <td>0.740157</td>\n",
              "      <td>4914</td>\n",
              "      <td>22.234712</td>\n",
              "      <td>1</td>\n",
              "    </tr>\n",
              "    <tr>\n",
              "      <th>2</th>\n",
              "      <td>3</td>\n",
              "      <td>15.428571</td>\n",
              "      <td>0.812030</td>\n",
              "      <td>5382</td>\n",
              "      <td>25.630949</td>\n",
              "      <td>1</td>\n",
              "    </tr>\n",
              "    <tr>\n",
              "      <th>3</th>\n",
              "      <td>4</td>\n",
              "      <td>15.714286</td>\n",
              "      <td>0.866142</td>\n",
              "      <td>4599</td>\n",
              "      <td>26.189980</td>\n",
              "      <td>1</td>\n",
              "    </tr>\n",
              "    <tr>\n",
              "      <th>4</th>\n",
              "      <td>5</td>\n",
              "      <td>14.285714</td>\n",
              "      <td>0.934579</td>\n",
              "      <td>3024</td>\n",
              "      <td>23.881798</td>\n",
              "      <td>1</td>\n",
              "    </tr>\n",
              "  </tbody>\n",
              "</table>\n",
              "</div>"
            ],
            "text/plain": [
              "   Unnamed: 0        wcn       wjc   wpa        waa  label\n",
              "0           1  14.714286  0.872881  4347  24.343823      1\n",
              "1           2  15.666667  0.740157  4914  22.234712      1\n",
              "2           3  15.428571  0.812030  5382  25.630949      1\n",
              "3           4  15.714286  0.866142  4599  26.189980      1\n",
              "4           5  14.285714  0.934579  3024  23.881798      1"
            ]
          },
          "metadata": {
            "tags": []
          },
          "execution_count": 42
        }
      ]
    },
    {
      "cell_type": "code",
      "metadata": {
        "colab": {
          "base_uri": "https://localhost:8080/",
          "height": 204
        },
        "id": "46MwrE2KNf0T",
        "outputId": "210513bd-91f4-4011-a186-775ef3313426"
      },
      "source": [
        "from sklearn.utils import shuffle\n",
        "data = shuffle(data)\n",
        "data.head()"
      ],
      "execution_count": 43,
      "outputs": [
        {
          "output_type": "execute_result",
          "data": {
            "text/html": [
              "<div>\n",
              "<style scoped>\n",
              "    .dataframe tbody tr th:only-of-type {\n",
              "        vertical-align: middle;\n",
              "    }\n",
              "\n",
              "    .dataframe tbody tr th {\n",
              "        vertical-align: top;\n",
              "    }\n",
              "\n",
              "    .dataframe thead th {\n",
              "        text-align: right;\n",
              "    }\n",
              "</style>\n",
              "<table border=\"1\" class=\"dataframe\">\n",
              "  <thead>\n",
              "    <tr style=\"text-align: right;\">\n",
              "      <th></th>\n",
              "      <th>Unnamed: 0</th>\n",
              "      <th>wcn</th>\n",
              "      <th>wjc</th>\n",
              "      <th>wpa</th>\n",
              "      <th>waa</th>\n",
              "      <th>label</th>\n",
              "    </tr>\n",
              "  </thead>\n",
              "  <tbody>\n",
              "    <tr>\n",
              "      <th>329006</th>\n",
              "      <td>329007</td>\n",
              "      <td>0.0</td>\n",
              "      <td>0.0</td>\n",
              "      <td>260</td>\n",
              "      <td>0.0</td>\n",
              "      <td>0</td>\n",
              "    </tr>\n",
              "    <tr>\n",
              "      <th>216586</th>\n",
              "      <td>216587</td>\n",
              "      <td>0.0</td>\n",
              "      <td>0.0</td>\n",
              "      <td>1725</td>\n",
              "      <td>0.0</td>\n",
              "      <td>0</td>\n",
              "    </tr>\n",
              "    <tr>\n",
              "      <th>103922</th>\n",
              "      <td>103923</td>\n",
              "      <td>0.0</td>\n",
              "      <td>0.0</td>\n",
              "      <td>1260</td>\n",
              "      <td>0.0</td>\n",
              "      <td>0</td>\n",
              "    </tr>\n",
              "    <tr>\n",
              "      <th>413779</th>\n",
              "      <td>413780</td>\n",
              "      <td>0.0</td>\n",
              "      <td>0.0</td>\n",
              "      <td>5</td>\n",
              "      <td>0.0</td>\n",
              "      <td>0</td>\n",
              "    </tr>\n",
              "    <tr>\n",
              "      <th>321923</th>\n",
              "      <td>321924</td>\n",
              "      <td>0.0</td>\n",
              "      <td>0.0</td>\n",
              "      <td>110</td>\n",
              "      <td>0.0</td>\n",
              "      <td>0</td>\n",
              "    </tr>\n",
              "  </tbody>\n",
              "</table>\n",
              "</div>"
            ],
            "text/plain": [
              "        Unnamed: 0  wcn  wjc   wpa  waa  label\n",
              "329006      329007  0.0  0.0   260  0.0      0\n",
              "216586      216587  0.0  0.0  1725  0.0      0\n",
              "103922      103923  0.0  0.0  1260  0.0      0\n",
              "413779      413780  0.0  0.0     5  0.0      0\n",
              "321923      321924  0.0  0.0   110  0.0      0"
            ]
          },
          "metadata": {
            "tags": []
          },
          "execution_count": 43
        }
      ]
    },
    {
      "cell_type": "code",
      "metadata": {
        "id": "fNkC65VBNhvo"
      },
      "source": [
        "dataX=data.iloc[:,1:5].values\n",
        "dataY=data.iloc[:,5] .values"
      ],
      "execution_count": 60,
      "outputs": []
    },
    {
      "cell_type": "code",
      "metadata": {
        "colab": {
          "base_uri": "https://localhost:8080/",
          "height": 204
        },
        "id": "yeEbb2RFNmWS",
        "outputId": "351f76de-b700-4ee9-a05c-54f6ba533bc6"
      },
      "source": [
        "test=pd.read_csv('./myDataSet/test.csv',header=0)\n",
        "test.head()"
      ],
      "execution_count": 52,
      "outputs": [
        {
          "output_type": "execute_result",
          "data": {
            "text/html": [
              "<div>\n",
              "<style scoped>\n",
              "    .dataframe tbody tr th:only-of-type {\n",
              "        vertical-align: middle;\n",
              "    }\n",
              "\n",
              "    .dataframe tbody tr th {\n",
              "        vertical-align: top;\n",
              "    }\n",
              "\n",
              "    .dataframe thead th {\n",
              "        text-align: right;\n",
              "    }\n",
              "</style>\n",
              "<table border=\"1\" class=\"dataframe\">\n",
              "  <thead>\n",
              "    <tr style=\"text-align: right;\">\n",
              "      <th></th>\n",
              "      <th>Id</th>\n",
              "      <th>node A</th>\n",
              "      <th>node B</th>\n",
              "      <th>wcn</th>\n",
              "      <th>wjc</th>\n",
              "      <th>wpa</th>\n",
              "      <th>waa</th>\n",
              "    </tr>\n",
              "  </thead>\n",
              "  <tbody>\n",
              "    <tr>\n",
              "      <th>0</th>\n",
              "      <td>1</td>\n",
              "      <td>0</td>\n",
              "      <td>2917</td>\n",
              "      <td>0.0</td>\n",
              "      <td>0.000000</td>\n",
              "      <td>1134</td>\n",
              "      <td>0.000000</td>\n",
              "    </tr>\n",
              "    <tr>\n",
              "      <th>1</th>\n",
              "      <td>2</td>\n",
              "      <td>0</td>\n",
              "      <td>2956</td>\n",
              "      <td>0.0</td>\n",
              "      <td>0.000000</td>\n",
              "      <td>189</td>\n",
              "      <td>0.000000</td>\n",
              "    </tr>\n",
              "    <tr>\n",
              "      <th>2</th>\n",
              "      <td>3</td>\n",
              "      <td>1</td>\n",
              "      <td>4038</td>\n",
              "      <td>0.0</td>\n",
              "      <td>0.000000</td>\n",
              "      <td>2512</td>\n",
              "      <td>0.000000</td>\n",
              "    </tr>\n",
              "    <tr>\n",
              "      <th>3</th>\n",
              "      <td>4</td>\n",
              "      <td>2</td>\n",
              "      <td>1848</td>\n",
              "      <td>2.0</td>\n",
              "      <td>0.060606</td>\n",
              "      <td>192</td>\n",
              "      <td>1.872036</td>\n",
              "    </tr>\n",
              "    <tr>\n",
              "      <th>4</th>\n",
              "      <td>5</td>\n",
              "      <td>3</td>\n",
              "      <td>513</td>\n",
              "      <td>0.0</td>\n",
              "      <td>0.000000</td>\n",
              "      <td>629</td>\n",
              "      <td>0.000000</td>\n",
              "    </tr>\n",
              "  </tbody>\n",
              "</table>\n",
              "</div>"
            ],
            "text/plain": [
              "   Id  node A  node B  wcn       wjc   wpa       waa\n",
              "0   1       0    2917  0.0  0.000000  1134  0.000000\n",
              "1   2       0    2956  0.0  0.000000   189  0.000000\n",
              "2   3       1    4038  0.0  0.000000  2512  0.000000\n",
              "3   4       2    1848  2.0  0.060606   192  1.872036\n",
              "4   5       3     513  0.0  0.000000   629  0.000000"
            ]
          },
          "metadata": {
            "tags": []
          },
          "execution_count": 52
        }
      ]
    },
    {
      "cell_type": "code",
      "metadata": {
        "id": "FUkT1B3lRjqP"
      },
      "source": [
        "testX=test.iloc[:,3:].values"
      ],
      "execution_count": 53,
      "outputs": []
    },
    {
      "cell_type": "code",
      "metadata": {
        "id": "1bVUAb5VRs4z"
      },
      "source": [
        "from sklearn.model_selection import train_test_split\n",
        "trainX, valX, trainY, valY = train_test_split( dataX, dataY, test_size=0.2, random_state=4)"
      ],
      "execution_count": 61,
      "outputs": []
    },
    {
      "cell_type": "code",
      "metadata": {
        "id": "CQmv-CH6KNm3"
      },
      "source": [
        "param_test1 = {\n",
        " 'max_depth':range(3,10,2),\n",
        " 'min_child_weight':range(1,6,2)\n",
        "}\n",
        "gs1 = GridSearchCV(estimator = XGBClassifier(         learning_rate =0.1, n_estimators=140, max_depth=5,\n",
        "min_child_weight=1, gamma=0, subsample=0.8,             colsample_bytree=0.8,\n",
        " objective= 'binary:logistic', nthread=4,     scale_pos_weight=1, seed=27), \n",
        " param_grid = param_test1,     scoring='roc_auc',n_jobs=4,iid=False, cv=5)\n",
        "gs1.fit(trainX,trainY)"
      ],
      "execution_count": null,
      "outputs": []
    },
    {
      "cell_type": "code",
      "metadata": {
        "colab": {
          "base_uri": "https://localhost:8080/"
        },
        "id": "xbe2rnY2SH5O",
        "outputId": "4354d376-1bfc-4785-d82f-7e65d201e5e5"
      },
      "source": [
        "print(gs1.best_params_)\n",
        "print(gs1.best_score_)"
      ],
      "execution_count": 68,
      "outputs": [
        {
          "output_type": "stream",
          "text": [
            "{'max_depth': 3, 'min_child_weight': 1}\n",
            "0.9760978543037714\n"
          ],
          "name": "stdout"
        }
      ]
    },
    {
      "cell_type": "code",
      "metadata": {
        "id": "3haLBfLzR0fO"
      },
      "source": [
        "model = gs1.best_estimator_\n",
        "predval = model.predict(valX)"
      ],
      "execution_count": 80,
      "outputs": []
    },
    {
      "cell_type": "code",
      "metadata": {
        "colab": {
          "base_uri": "https://localhost:8080/"
        },
        "id": "gPCJdun3SHCw",
        "outputId": "ae18a3d3-2be1-4404-c617-d4c8f9fee95f"
      },
      "source": [
        "accuracy = accuracy_score(valY, predval)\n",
        "print(\"Accuracy: %.2f%%\" % (accuracy * 100.0))"
      ],
      "execution_count": 81,
      "outputs": [
        {
          "output_type": "stream",
          "text": [
            "Accuracy: 99.28%\n"
          ],
          "name": "stdout"
        }
      ]
    },
    {
      "cell_type": "code",
      "metadata": {
        "id": "IRsZLjBf4Nl4"
      },
      "source": [
        "predY=model.predict_proba(testX)[:,1]"
      ],
      "execution_count": 82,
      "outputs": []
    },
    {
      "cell_type": "code",
      "metadata": {
        "colab": {
          "base_uri": "https://localhost:8080/"
        },
        "id": "B57nxEDI44Jn",
        "outputId": "462b90a0-b480-48cc-a70a-f00d1411c808"
      },
      "source": [
        "out = f'xgboost_pre3.csv'\n",
        "with open(out, 'w') as o:\n",
        "    o.write('Id,Predicted\\n')\n",
        "    for i, s in enumerate(predY):\n",
        "        o.write(f'{i+1},{s}\\n')\n",
        "print('Write output to', out)"
      ],
      "execution_count": 73,
      "outputs": [
        {
          "output_type": "stream",
          "text": [
            "Write output to xgboost_pre3.csv\n"
          ],
          "name": "stdout"
        }
      ]
    },
    {
      "cell_type": "code",
      "metadata": {
        "colab": {
          "base_uri": "https://localhost:8080/",
          "height": 295
        },
        "id": "WUJv1Ijs_AY8",
        "outputId": "ee839954-60c3-4d3a-a478-4d70f0aca677"
      },
      "source": [
        "import matplotlib.pyplot as plt\n",
        "from xgboost import plot_importance\n",
        " ### plot feature importance\n",
        "plot_importance(model)\n",
        "plt.show()"
      ],
      "execution_count": 84,
      "outputs": [
        {
          "output_type": "display_data",
          "data": {
            "image/png": "[encoded data removed]",
            "text/plain": [
              "<Figure size 432x288 with 1 Axes>"
            ]
          },
          "metadata": {
            "tags": [],
            "needs_background": "light"
          }
        }
      ]
    }
  ]
}