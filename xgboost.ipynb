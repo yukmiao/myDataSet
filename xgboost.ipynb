{
  "nbformat": 4,
  "nbformat_minor": 0,
  "metadata": {
    "colab": {
      "name": "Untitled1.ipynb",
      "provenance": [],
      "authorship_tag": "ABX9TyORMpydBvmXMqAaD4PnEDtI",
      "include_colab_link": true
    },
    "kernelspec": {
      "name": "python3",
      "display_name": "Python 3"
    },
    "language_info": {
      "name": "python"
    }
  },
  "cells": [
    {
      "cell_type": "markdown",
      "metadata": {
        "id": "view-in-github",
        "colab_type": "text"
      },
      "source": [
        "<a href=\"https://colab.research.google.com/github/yukmiao/myDataSet/blob/main/xgboost.ipynb\" target=\"_parent\"><img src=\"https://colab.research.google.com/assets/colab-badge.svg\" alt=\"Open In Colab\"/></a>"
      ]
    },
    {
      "cell_type": "code",
      "metadata": {
        "colab": {
          "base_uri": "https://localhost:8080/"
        },
        "id": "tCjoTMVcG9Yj",
        "outputId": "db61f7fc-3693-445b-f10d-02dab4776c4b"
      },
      "source": [
        "#!pip install xgboost"
      ],
      "execution_count": 1,
      "outputs": [
        {
          "output_type": "stream",
          "text": [
            "Requirement already satisfied: xgboost in /usr/local/lib/python3.7/dist-packages (0.90)\n",
            "Requirement already satisfied: scipy in /usr/local/lib/python3.7/dist-packages (from xgboost) (1.4.1)\n",
            "Requirement already satisfied: numpy in /usr/local/lib/python3.7/dist-packages (from xgboost) (1.19.5)\n"
          ],
          "name": "stdout"
        }
      ]
    },
    {
      "cell_type": "code",
      "metadata": {
        "id": "bo_7h2R-HE8A"
      },
      "source": [
        "import xgboost"
      ],
      "execution_count": 2,
      "outputs": []
    },
    {
      "cell_type": "code",
      "metadata": {
        "id": "svg1DQKQHH4e"
      },
      "source": [
        "from numpy import loadtxt\n",
        "from xgboost import XGBClassifier\n",
        "from sklearn.model_selection import train_test_split\n",
        "from sklearn.metrics import accuracy_score"
      ],
      "execution_count": 3,
      "outputs": []
    },
    {
      "cell_type": "code",
      "metadata": {
        "colab": {
          "base_uri": "https://localhost:8080/"
        },
        "id": "QzZHu4wxHds1",
        "outputId": "0f12a1ee-6812-4b23-eff8-bd20fd10dad4"
      },
      "source": [
        "!git clone https://github.com/yukmiao/myDataSet.git"
      ],
      "execution_count": 12,
      "outputs": [
        {
          "output_type": "stream",
          "text": [
            "Cloning into 'myDataSet'...\n",
            "remote: Enumerating objects: 9, done.\u001b[K\n",
            "remote: Counting objects: 100% (9/9), done.\u001b[K\n",
            "remote: Compressing objects: 100% (7/7), done.\u001b[K\n",
            "remote: Total 9 (delta 1), reused 0 (delta 0), pack-reused 0\u001b[K\n",
            "Unpacking objects: 100% (9/9), done.\n"
          ],
          "name": "stdout"
        }
      ]
    },
    {
      "cell_type": "code",
      "metadata": {
        "colab": {
          "base_uri": "https://localhost:8080/"
        },
        "id": "kVRBNAfsNBZa",
        "outputId": "a24b30a3-2584-4e8b-9fbb-eb556f244824"
      },
      "source": [
        "!ls -R"
      ],
      "execution_count": 13,
      "outputs": [
        {
          "output_type": "stream",
          "text": [
            ".:\n",
            "myDataSet  myDataSet1  sample_data\n",
            "\n",
            "./myDataSet:\n",
            "README.md  sixteenK.csv  test.csv\n",
            "\n",
            "./myDataSet1:\n",
            "\n",
            "./sample_data:\n",
            "anscombe.json\t\t      mnist_test.csv\n",
            "california_housing_test.csv   mnist_train_small.csv\n",
            "california_housing_train.csv  README.md\n"
          ],
          "name": "stdout"
        }
      ]
    },
    {
      "cell_type": "code",
      "metadata": {
        "colab": {
          "base_uri": "https://localhost:8080/",
          "height": 204
        },
        "id": "rJqrutDzNEwl",
        "outputId": "0fc3d0ee-3eb2-4b96-e1f3-19f81f847c47"
      },
      "source": [
        "import pandas as pd\n",
        "data=pd.read_csv('./myDataSet/sixteenK.csv',header=0)\n",
        "data.head()"
      ],
      "execution_count": 14,
      "outputs": [
        {
          "output_type": "execute_result",
          "data": {
            "text/html": [
              "<div>\n",
              "<style scoped>\n",
              "    .dataframe tbody tr th:only-of-type {\n",
              "        vertical-align: middle;\n",
              "    }\n",
              "\n",
              "    .dataframe tbody tr th {\n",
              "        vertical-align: top;\n",
              "    }\n",
              "\n",
              "    .dataframe thead th {\n",
              "        text-align: right;\n",
              "    }\n",
              "</style>\n",
              "<table border=\"1\" class=\"dataframe\">\n",
              "  <thead>\n",
              "    <tr style=\"text-align: right;\">\n",
              "      <th></th>\n",
              "      <th>nodeA</th>\n",
              "      <th>nodeB</th>\n",
              "      <th>label</th>\n",
              "      <th>wcn</th>\n",
              "      <th>wjc</th>\n",
              "      <th>wpa</th>\n",
              "      <th>waa</th>\n",
              "    </tr>\n",
              "  </thead>\n",
              "  <tbody>\n",
              "    <tr>\n",
              "      <th>0</th>\n",
              "      <td>0</td>\n",
              "      <td>356</td>\n",
              "      <td>1</td>\n",
              "      <td>14.714286</td>\n",
              "      <td>0.872881</td>\n",
              "      <td>4347</td>\n",
              "      <td>24.343823</td>\n",
              "    </tr>\n",
              "    <tr>\n",
              "      <th>1</th>\n",
              "      <td>0</td>\n",
              "      <td>1236</td>\n",
              "      <td>1</td>\n",
              "      <td>15.666667</td>\n",
              "      <td>0.740157</td>\n",
              "      <td>4914</td>\n",
              "      <td>22.234712</td>\n",
              "    </tr>\n",
              "    <tr>\n",
              "      <th>2</th>\n",
              "      <td>356</td>\n",
              "      <td>1236</td>\n",
              "      <td>1</td>\n",
              "      <td>15.428571</td>\n",
              "      <td>0.812030</td>\n",
              "      <td>5382</td>\n",
              "      <td>25.630949</td>\n",
              "    </tr>\n",
              "    <tr>\n",
              "      <th>3</th>\n",
              "      <td>0</td>\n",
              "      <td>1655</td>\n",
              "      <td>1</td>\n",
              "      <td>15.714286</td>\n",
              "      <td>0.866142</td>\n",
              "      <td>4599</td>\n",
              "      <td>26.189980</td>\n",
              "    </tr>\n",
              "    <tr>\n",
              "      <th>4</th>\n",
              "      <td>0</td>\n",
              "      <td>1797</td>\n",
              "      <td>1</td>\n",
              "      <td>14.285714</td>\n",
              "      <td>0.934579</td>\n",
              "      <td>3024</td>\n",
              "      <td>23.881798</td>\n",
              "    </tr>\n",
              "  </tbody>\n",
              "</table>\n",
              "</div>"
            ],
            "text/plain": [
              "   nodeA  nodeB  label        wcn       wjc   wpa        waa\n",
              "0      0    356      1  14.714286  0.872881  4347  24.343823\n",
              "1      0   1236      1  15.666667  0.740157  4914  22.234712\n",
              "2    356   1236      1  15.428571  0.812030  5382  25.630949\n",
              "3      0   1655      1  15.714286  0.866142  4599  26.189980\n",
              "4      0   1797      1  14.285714  0.934579  3024  23.881798"
            ]
          },
          "metadata": {
            "tags": []
          },
          "execution_count": 14
        }
      ]
    },
    {
      "cell_type": "code",
      "metadata": {
        "colab": {
          "base_uri": "https://localhost:8080/",
          "height": 204
        },
        "id": "46MwrE2KNf0T",
        "outputId": "71b5e1b4-e1c0-4100-dd87-5079006347a6"
      },
      "source": [
        "from sklearn.utils import shuffle\n",
        "data = shuffle(data)\n",
        "data.head()"
      ],
      "execution_count": 15,
      "outputs": [
        {
          "output_type": "execute_result",
          "data": {
            "text/html": [
              "<div>\n",
              "<style scoped>\n",
              "    .dataframe tbody tr th:only-of-type {\n",
              "        vertical-align: middle;\n",
              "    }\n",
              "\n",
              "    .dataframe tbody tr th {\n",
              "        vertical-align: top;\n",
              "    }\n",
              "\n",
              "    .dataframe thead th {\n",
              "        text-align: right;\n",
              "    }\n",
              "</style>\n",
              "<table border=\"1\" class=\"dataframe\">\n",
              "  <thead>\n",
              "    <tr style=\"text-align: right;\">\n",
              "      <th></th>\n",
              "      <th>nodeA</th>\n",
              "      <th>nodeB</th>\n",
              "      <th>label</th>\n",
              "      <th>wcn</th>\n",
              "      <th>wjc</th>\n",
              "      <th>wpa</th>\n",
              "      <th>waa</th>\n",
              "    </tr>\n",
              "  </thead>\n",
              "  <tbody>\n",
              "    <tr>\n",
              "      <th>14713</th>\n",
              "      <td>1858</td>\n",
              "      <td>2706</td>\n",
              "      <td>1</td>\n",
              "      <td>10.600000</td>\n",
              "      <td>0.223629</td>\n",
              "      <td>14148</td>\n",
              "      <td>12.608452</td>\n",
              "    </tr>\n",
              "    <tr>\n",
              "      <th>11549</th>\n",
              "      <td>883</td>\n",
              "      <td>3920</td>\n",
              "      <td>1</td>\n",
              "      <td>4.666667</td>\n",
              "      <td>0.437500</td>\n",
              "      <td>216</td>\n",
              "      <td>4.221461</td>\n",
              "    </tr>\n",
              "    <tr>\n",
              "      <th>683</th>\n",
              "      <td>1242</td>\n",
              "      <td>1595</td>\n",
              "      <td>1</td>\n",
              "      <td>5.571429</td>\n",
              "      <td>0.536082</td>\n",
              "      <td>21534</td>\n",
              "      <td>37.736490</td>\n",
              "    </tr>\n",
              "    <tr>\n",
              "      <th>25629</th>\n",
              "      <td>742</td>\n",
              "      <td>1792</td>\n",
              "      <td>0</td>\n",
              "      <td>0.000000</td>\n",
              "      <td>0.000000</td>\n",
              "      <td>0</td>\n",
              "      <td>0.000000</td>\n",
              "    </tr>\n",
              "    <tr>\n",
              "      <th>7325</th>\n",
              "      <td>678</td>\n",
              "      <td>1636</td>\n",
              "      <td>1</td>\n",
              "      <td>4.333333</td>\n",
              "      <td>0.764706</td>\n",
              "      <td>88</td>\n",
              "      <td>5.126688</td>\n",
              "    </tr>\n",
              "  </tbody>\n",
              "</table>\n",
              "</div>"
            ],
            "text/plain": [
              "       nodeA  nodeB  label        wcn       wjc    wpa        waa\n",
              "14713   1858   2706      1  10.600000  0.223629  14148  12.608452\n",
              "11549    883   3920      1   4.666667  0.437500    216   4.221461\n",
              "683     1242   1595      1   5.571429  0.536082  21534  37.736490\n",
              "25629    742   1792      0   0.000000  0.000000      0   0.000000\n",
              "7325     678   1636      1   4.333333  0.764706     88   5.126688"
            ]
          },
          "metadata": {
            "tags": []
          },
          "execution_count": 15
        }
      ]
    },
    {
      "cell_type": "code",
      "metadata": {
        "id": "fNkC65VBNhvo"
      },
      "source": [
        "dataX=data.iloc[:,3:].values\n",
        "dataY=data.iloc[:,2] .values"
      ],
      "execution_count": 16,
      "outputs": []
    },
    {
      "cell_type": "code",
      "metadata": {
        "colab": {
          "base_uri": "https://localhost:8080/",
          "height": 204
        },
        "id": "yeEbb2RFNmWS",
        "outputId": "1ee58018-940c-48ad-cbbb-153fafe03e45"
      },
      "source": [
        "test=pd.read_csv('./myDataSet/test.csv',header=0)\n",
        "test.head()"
      ],
      "execution_count": 17,
      "outputs": [
        {
          "output_type": "execute_result",
          "data": {
            "text/html": [
              "<div>\n",
              "<style scoped>\n",
              "    .dataframe tbody tr th:only-of-type {\n",
              "        vertical-align: middle;\n",
              "    }\n",
              "\n",
              "    .dataframe tbody tr th {\n",
              "        vertical-align: top;\n",
              "    }\n",
              "\n",
              "    .dataframe thead th {\n",
              "        text-align: right;\n",
              "    }\n",
              "</style>\n",
              "<table border=\"1\" class=\"dataframe\">\n",
              "  <thead>\n",
              "    <tr style=\"text-align: right;\">\n",
              "      <th></th>\n",
              "      <th>Id</th>\n",
              "      <th>node A</th>\n",
              "      <th>node B</th>\n",
              "      <th>wcn</th>\n",
              "      <th>wjc</th>\n",
              "      <th>wpa</th>\n",
              "      <th>waa</th>\n",
              "    </tr>\n",
              "  </thead>\n",
              "  <tbody>\n",
              "    <tr>\n",
              "      <th>0</th>\n",
              "      <td>1</td>\n",
              "      <td>0</td>\n",
              "      <td>2917</td>\n",
              "      <td>0.0</td>\n",
              "      <td>0.000000</td>\n",
              "      <td>1134</td>\n",
              "      <td>0.000000</td>\n",
              "    </tr>\n",
              "    <tr>\n",
              "      <th>1</th>\n",
              "      <td>2</td>\n",
              "      <td>0</td>\n",
              "      <td>2956</td>\n",
              "      <td>0.0</td>\n",
              "      <td>0.000000</td>\n",
              "      <td>189</td>\n",
              "      <td>0.000000</td>\n",
              "    </tr>\n",
              "    <tr>\n",
              "      <th>2</th>\n",
              "      <td>3</td>\n",
              "      <td>1</td>\n",
              "      <td>4038</td>\n",
              "      <td>0.0</td>\n",
              "      <td>0.000000</td>\n",
              "      <td>2512</td>\n",
              "      <td>0.000000</td>\n",
              "    </tr>\n",
              "    <tr>\n",
              "      <th>3</th>\n",
              "      <td>4</td>\n",
              "      <td>2</td>\n",
              "      <td>1848</td>\n",
              "      <td>2.0</td>\n",
              "      <td>0.060606</td>\n",
              "      <td>192</td>\n",
              "      <td>1.872036</td>\n",
              "    </tr>\n",
              "    <tr>\n",
              "      <th>4</th>\n",
              "      <td>5</td>\n",
              "      <td>3</td>\n",
              "      <td>513</td>\n",
              "      <td>0.0</td>\n",
              "      <td>0.000000</td>\n",
              "      <td>629</td>\n",
              "      <td>0.000000</td>\n",
              "    </tr>\n",
              "  </tbody>\n",
              "</table>\n",
              "</div>"
            ],
            "text/plain": [
              "   Id  node A  node B  wcn       wjc   wpa       waa\n",
              "0   1       0    2917  0.0  0.000000  1134  0.000000\n",
              "1   2       0    2956  0.0  0.000000   189  0.000000\n",
              "2   3       1    4038  0.0  0.000000  2512  0.000000\n",
              "3   4       2    1848  2.0  0.060606   192  1.872036\n",
              "4   5       3     513  0.0  0.000000   629  0.000000"
            ]
          },
          "metadata": {
            "tags": []
          },
          "execution_count": 17
        }
      ]
    }
  ]
}